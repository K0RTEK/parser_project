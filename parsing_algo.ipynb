{
 "cells": [
  {
   "cell_type": "code",
   "execution_count": 85,
   "id": "dabc7603",
   "metadata": {},
   "outputs": [
    {
     "name": "stderr",
     "output_type": "stream",
     "text": [
      "[nltk_data] Downloading package punkt to\n",
      "[nltk_data]     C:\\Users\\23mak\\AppData\\Roaming\\nltk_data...\n",
      "[nltk_data]   Package punkt is already up-to-date!\n"
     ]
    },
    {
     "data": {
      "text/plain": [
       "True"
      ]
     },
     "execution_count": 85,
     "metadata": {},
     "output_type": "execute_result"
    }
   ],
   "source": [
    "import pandas as pd\n",
    "import numpy as np\n",
    "import nltk\n",
    "from nltk.stem.snowball import SnowballStemmer\n",
    "import re\n",
    "import os\n",
    "nltk.download('punkt')"
   ]
  },
  {
   "cell_type": "code",
   "execution_count": 86,
   "id": "a23fc4a1",
   "metadata": {},
   "outputs": [
    {
     "name": "stdout",
     "output_type": "stream",
     "text": [
      "Vvedite tekst: Яндекс сохраняет указанные Пользователем данные в платежной форме исключительно для технических целей проведения оплаты без привязки к учетной записи конкретного Пользователя. Введенная информация сохраняется и обрабатывается на условиях и в целях, указанных в Политике конфиденциальности (https://yandex.ru/legal/confidential).\n"
     ]
    }
   ],
   "source": [
    "text = input('Vvedite tekst: ')"
   ]
  },
  {
   "cell_type": "code",
   "execution_count": 87,
   "id": "0a2d7b4a",
   "metadata": {},
   "outputs": [
    {
     "data": {
      "text/plain": [
       "'Яндекс сохраняет указанные Пользователем данные в платежной форме исключительно для технических целей проведения оплаты без привязки к учетной записи конкретного Пользователя. Введенная информация сохраняется и обрабатывается на условиях и в целях, указанных в Политике конфиденциальности (https://yandex.ru/legal/confidential).'"
      ]
     },
     "execution_count": 87,
     "metadata": {},
     "output_type": "execute_result"
    }
   ],
   "source": [
    "text"
   ]
  },
  {
   "cell_type": "code",
   "execution_count": 88,
   "id": "73b1eb73",
   "metadata": {},
   "outputs": [
    {
     "name": "stdout",
     "output_type": "stream",
     "text": [
      "1\n",
      "Яндекс сохраняет указанные Пользователем данные в платежной форме исключительно для технических целей проведения оплаты без привязки к учетной записи конкретного Пользователя\n",
      "2\n",
      "Введенная информация сохраняется и обрабатывается на условиях и в целях, указанных в Политике конфиденциальности (https://yandex\n",
      "3\n",
      "ru/legal/confidential)\n"
     ]
    }
   ],
   "source": [
    "split_regex = re.compile(r'[.|!|?|…]')\n",
    "sentences = filter(lambda t: t, [t.strip() for t in split_regex.split(text)])\n",
    "sentences_list = []\n",
    "count = 0\n",
    "a = 1\n",
    "\n",
    "for sentence in sentences:\n",
    "    sentences_list.append(sentence)\n",
    "    count += 1\n",
    "   \n",
    "for i in range(count):\n",
    "    print(a)\n",
    "    print(sentences_list[i])\n",
    "    a += 1"
   ]
  },
  {
   "cell_type": "code",
   "execution_count": null,
   "id": "03290f6a",
   "metadata": {},
   "outputs": [],
   "source": []
  },
  {
   "cell_type": "code",
   "execution_count": 89,
   "id": "4a425fd0",
   "metadata": {},
   "outputs": [],
   "source": [
    "stemmer = SnowballStemmer(\"russian\")\n",
    "\n",
    "def token_and_stem(sentences):\n",
    "    tokens = [word for sent in nltk.sent_tokenize(text) for word in nltk.word_tokenize(sent)]\n",
    "    filtered_tokens = []\n",
    "    for token in tokens:\n",
    "        if re.search('[а-яА-Я]', token):\n",
    "            filtered_tokens.append(token)\n",
    "    stems = [stemmer.stem(t) for t in filtered_tokens]\n",
    "    return stems\n",
    "\n"
   ]
  },
  {
   "cell_type": "code",
   "execution_count": 90,
   "id": "fc05c861",
   "metadata": {},
   "outputs": [
    {
     "name": "stdout",
     "output_type": "stream",
     "text": [
      "['и', 'в', 'во', 'не', 'что', 'он', 'на', 'я', 'с', 'со', 'как', 'а', 'то', 'все', 'она', 'так', 'его', 'но', 'да', 'ты', 'к', 'у', 'же', 'вы', 'за', 'бы', 'по', 'только', 'ее', 'мне', 'было', 'вот', 'от', 'меня', 'еще', 'нет', 'о', 'из', 'ему', 'теперь', 'когда', 'даже', 'ну', 'вдруг', 'ли', 'если', 'уже', 'или', 'ни', 'быть', 'был', 'него', 'до', 'вас', 'нибудь', 'опять', 'уж', 'вам', 'ведь', 'там', 'потом', 'себя', 'ничего', 'ей', 'может', 'они', 'тут', 'где', 'есть', 'надо', 'ней', 'для', 'мы', 'тебя', 'их', 'чем', 'была', 'сам', 'чтоб', 'без', 'будто', 'чего', 'раз', 'тоже', 'себе', 'под', 'будет', 'ж', 'тогда', 'кто', 'этот', 'того', 'потому', 'этого', 'какой', 'совсем', 'ним', 'здесь', 'этом', 'один', 'почти', 'мой', 'тем', 'чтобы', 'нее', 'сейчас', 'были', 'куда', 'зачем', 'всех', 'никогда', 'можно', 'при', 'наконец', 'два', 'об', 'другой', 'хоть', 'после', 'над', 'больше', 'тот', 'через', 'эти', 'нас', 'про', 'всего', 'них', 'какая', 'много', 'разве', 'три', 'эту', 'моя', 'впрочем', 'хорошо', 'свою', 'этой', 'перед', 'иногда', 'лучше', 'чуть', 'том', 'нельзя', 'такой', 'им', 'более', 'всегда', 'конечно', 'всю', 'между', 'что', 'это', 'так', 'вот', 'быть', 'как', 'в', 'к', 'на', 'при', 'т.ч', 'если', 'и/или', 'и/', 'ваш', 'или']\n"
     ]
    }
   ],
   "source": [
    "stopwords = nltk.corpus.stopwords.words('russian')\n",
    "stopwords.extend(['что', 'это', 'так', 'вот', 'быть', 'как', 'в', 'к', 'на', 'при', 'т.ч', 'если', 'и/или', 'и/', 'ваш', 'или', ]) ### Расширение списка\n",
    "print(stopwords)"
   ]
  },
  {
   "cell_type": "code",
   "execution_count": 91,
   "id": "0bdb7be8",
   "metadata": {},
   "outputs": [
    {
     "name": "stdout",
     "output_type": "stream",
     "text": [
      "яндекс\n",
      "сохраня\n",
      "указа\n",
      "пользовател\n",
      "дан\n",
      "платежн\n",
      "форм\n",
      "исключительн\n",
      "техническ\n",
      "цел\n",
      "проведен\n",
      "оплат\n",
      "привязк\n",
      "учетн\n",
      "запис\n",
      "конкретн\n",
      "пользовател\n",
      "введен\n",
      "информац\n",
      "сохраня\n",
      "обрабатыва\n",
      "услов\n",
      "цел\n",
      "указа\n",
      "политик\n",
      "конфиденциальн\n"
     ]
    }
   ],
   "source": [
    "\n",
    "good_words = []\n",
    "for word in token_and_stem(text): \n",
    "    if word not in stopwords:\n",
    "        print(word)\n",
    "        good_words.append(word) \n"
   ]
  },
  {
   "cell_type": "code",
   "execution_count": 92,
   "id": "5bf92368",
   "metadata": {},
   "outputs": [
    {
     "name": "stdout",
     "output_type": "stream",
     "text": [
      "яндекс\n",
      "сохраня\n",
      "указа\n",
      "пользовател\n",
      "дан\n",
      "платежн\n",
      "форм\n",
      "исключительн\n",
      "техническ\n",
      "цел\n",
      "проведен\n",
      "оплат\n",
      "привязк\n",
      "учетн\n",
      "запис\n",
      "конкретн\n",
      "пользовател\n",
      "введен\n",
      "информац\n",
      "сохраня\n",
      "обрабатыва\n",
      "услов\n",
      "цел\n",
      "указа\n",
      "политик\n",
      "конфиденциальн\n",
      "яндекс\n",
      "сохраня\n",
      "указа\n",
      "пользовател\n",
      "дан\n",
      "платежн\n",
      "форм\n",
      "исключительн\n",
      "техническ\n",
      "цел\n",
      "проведен\n",
      "оплат\n",
      "привязк\n",
      "учетн\n",
      "запис\n",
      "конкретн\n",
      "пользовател\n",
      "введен\n",
      "информац\n",
      "сохраня\n",
      "обрабатыва\n",
      "услов\n",
      "цел\n",
      "указа\n",
      "политик\n",
      "конфиденциальн\n",
      "яндекс\n",
      "сохраня\n",
      "указа\n",
      "пользовател\n",
      "дан\n",
      "платежн\n",
      "форм\n",
      "исключительн\n",
      "техническ\n",
      "цел\n",
      "проведен\n",
      "оплат\n",
      "привязк\n",
      "учетн\n",
      "запис\n",
      "конкретн\n",
      "пользовател\n",
      "введен\n",
      "информац\n",
      "сохраня\n",
      "обрабатыва\n",
      "услов\n",
      "цел\n",
      "указа\n",
      "политик\n",
      "конфиденциальн\n"
     ]
    }
   ],
   "source": [
    "stems_sentences_list = []\n",
    "\n",
    "for sentences in sentences_list:\n",
    "    good_words = []\n",
    "    for word in token_and_stem(sentences): \n",
    "        if word not in stopwords:\n",
    "            print(word)\n",
    "            good_words.append(word)\n",
    "    stems_sentences_list.append(good_words)"
   ]
  },
  {
   "cell_type": "code",
   "execution_count": null,
   "id": "79fc7494",
   "metadata": {},
   "outputs": [],
   "source": []
  },
  {
   "cell_type": "code",
   "execution_count": 93,
   "id": "a79932c0",
   "metadata": {},
   "outputs": [
    {
     "name": "stdout",
     "output_type": "stream",
     "text": [
      "1\n",
      "['яндекс', 'сохраня', 'указа', 'пользовател', 'дан', 'в', 'платежн', 'форм', 'исключительн', 'для', 'техническ', 'цел', 'проведен', 'оплат', 'без', 'привязк', 'к', 'учетн', 'запис', 'конкретн', 'пользовател', 'введен', 'информац', 'сохраня', 'и', 'обрабатыва', 'на', 'услов', 'и', 'в', 'цел', 'указа', 'в', 'политик', 'конфиденциальн']\n",
      "2\n",
      "['яндекс', 'сохраня', 'указа', 'пользовател', 'дан', 'в', 'платежн', 'форм', 'исключительн', 'для', 'техническ', 'цел', 'проведен', 'оплат', 'без', 'привязк', 'к', 'учетн', 'запис', 'конкретн', 'пользовател', 'введен', 'информац', 'сохраня', 'и', 'обрабатыва', 'на', 'услов', 'и', 'в', 'цел', 'указа', 'в', 'политик', 'конфиденциальн']\n",
      "3\n",
      "['яндекс', 'сохраня', 'указа', 'пользовател', 'дан', 'в', 'платежн', 'форм', 'исключительн', 'для', 'техническ', 'цел', 'проведен', 'оплат', 'без', 'привязк', 'к', 'учетн', 'запис', 'конкретн', 'пользовател', 'введен', 'информац', 'сохраня', 'и', 'обрабатыва', 'на', 'услов', 'и', 'в', 'цел', 'указа', 'в', 'политик', 'конфиденциальн']\n"
     ]
    }
   ],
   "source": [
    "count = 1\n",
    "for sentences in splitting(text):\n",
    "    print(count)\n",
    "    print(token_and_stem(sentences))\n",
    "    count += 1"
   ]
  },
  {
   "cell_type": "code",
   "execution_count": null,
   "id": "48893bdd",
   "metadata": {},
   "outputs": [],
   "source": []
  },
  {
   "cell_type": "code",
   "execution_count": null,
   "id": "a1a7cb7d",
   "metadata": {},
   "outputs": [],
   "source": []
  },
  {
   "cell_type": "code",
   "execution_count": null,
   "id": "0f0948b7",
   "metadata": {},
   "outputs": [],
   "source": []
  },
  {
   "cell_type": "code",
   "execution_count": null,
   "id": "a3c77b21",
   "metadata": {},
   "outputs": [],
   "source": []
  },
  {
   "cell_type": "code",
   "execution_count": null,
   "id": "77dd27ac",
   "metadata": {},
   "outputs": [],
   "source": []
  },
  {
   "cell_type": "code",
   "execution_count": null,
   "id": "67b9c577",
   "metadata": {},
   "outputs": [],
   "source": []
  }
 ],
 "metadata": {
  "kernelspec": {
   "display_name": "Python 3 (ipykernel)",
   "language": "python",
   "name": "python3"
  },
  "language_info": {
   "codemirror_mode": {
    "name": "ipython",
    "version": 3
   },
   "file_extension": ".py",
   "mimetype": "text/x-python",
   "name": "python",
   "nbconvert_exporter": "python",
   "pygments_lexer": "ipython3",
   "version": "3.9.5"
  }
 },
 "nbformat": 4,
 "nbformat_minor": 5
}
